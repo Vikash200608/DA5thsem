{
  "nbformat": 4,
  "nbformat_minor": 0,
  "metadata": {
    "colab": {
      "provenance": [],
      "authorship_tag": "ABX9TyMkdGkXGk3vgahe2h8aNe89",
      "include_colab_link": true
    },
    "kernelspec": {
      "name": "python3",
      "display_name": "Python 3"
    },
    "language_info": {
      "name": "python"
    }
  },
  "cells": [
    {
      "cell_type": "markdown",
      "metadata": {
        "id": "view-in-github",
        "colab_type": "text"
      },
      "source": [
        "<a href=\"https://colab.research.google.com/github/Vikash200608/DA5thsem/blob/main/Lesson3_py.ipynb\" target=\"_parent\"><img src=\"https://colab.research.google.com/assets/colab-badge.svg\" alt=\"Open In Colab\"/></a>"
      ]
    },
    {
      "cell_type": "code",
      "execution_count": 8,
      "metadata": {
        "colab": {
          "base_uri": "https://localhost:8080/"
        },
        "id": "hqPuyZX2lPXT",
        "outputId": "ceff38b3-f61d-4c24-e77c-2284d7876708"
      },
      "outputs": [
        {
          "output_type": "stream",
          "name": "stdout",
          "text": [
            "[10, 10]\n"
          ]
        }
      ],
      "source": [
        "def greedy_coins(value):\n",
        "    coins = [10, 5, 2, 1]\n",
        "    result = []\n",
        "    for coin in coins:\n",
        "        while value >= coin:\n",
        "            value -= coin\n",
        "            result.append(coin)\n",
        "    return result\n",
        "\n",
        "print(greedy_coins(20))\n"
      ]
    }
  ]
}