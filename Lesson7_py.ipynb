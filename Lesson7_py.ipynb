{
  "nbformat": 4,
  "nbformat_minor": 0,
  "metadata": {
    "colab": {
      "provenance": [],
      "authorship_tag": "ABX9TyM3DUP9h3YPW8yf0CwDQUQO",
      "include_colab_link": true
    },
    "kernelspec": {
      "name": "python3",
      "display_name": "Python 3"
    },
    "language_info": {
      "name": "python"
    }
  },
  "cells": [
    {
      "cell_type": "markdown",
      "metadata": {
        "id": "view-in-github",
        "colab_type": "text"
      },
      "source": [
        "<a href=\"https://colab.research.google.com/github/Vikash200608/DA5thsem/blob/main/Lesson7_py.ipynb\" target=\"_parent\"><img src=\"https://colab.research.google.com/assets/colab-badge.svg\" alt=\"Open In Colab\"/></a>"
      ]
    },
    {
      "cell_type": "code",
      "execution_count": 9,
      "metadata": {
        "colab": {
          "base_uri": "https://localhost:8080/"
        },
        "id": "qf6Jvmx7pEhR",
        "outputId": "01455a58-ae5b-49ca-a0d8-a1fdd7f450ae"
      },
      "outputs": [
        {
          "output_type": "stream",
          "name": "stdout",
          "text": [
            "5\n"
          ]
        }
      ],
      "source": [
        "from typing import List\n",
        "\n",
        "class Solution:\n",
        "    def candy(self, ratings: List[int]) -> int:\n",
        "        if len(ratings) == 1:\n",
        "            return 1\n",
        "\n",
        "        n = len(ratings)\n",
        "        data = [1] * n  # Every child gets at least one candy\n",
        "\n",
        "        # Left to right: if right > left, increase candy\n",
        "        for i in range(1, n):\n",
        "            if ratings[i] > ratings[i - 1]:\n",
        "                data[i] = data[i - 1] + 1\n",
        "\n",
        "        # Right to left: if left > right, increase candy\n",
        "        for i in range(n - 2, -1, -1):\n",
        "            if ratings[i] > ratings[i + 1]:\n",
        "                data[i] = max(data[i], data[i + 1] + 1)\n",
        "\n",
        "        return sum(data)\n",
        "sol = Solution()\n",
        "print(sol.candy([1, 0, 2]))  # Example input\n"
      ]
    }
  ]
}